{
  "nbformat": 4,
  "nbformat_minor": 0,
  "metadata": {
    "colab": {
      "provenance": [],
      "gpuType": "T4",
      "authorship_tag": "ABX9TyPb85tFiB/UuJdpRhA60QXK",
      "include_colab_link": true
    },
    "kernelspec": {
      "name": "python3",
      "display_name": "Python 3"
    },
    "language_info": {
      "name": "python"
    },
    "accelerator": "GPU"
  },
  "cells": [
    {
      "cell_type": "markdown",
      "metadata": {
        "id": "view-in-github",
        "colab_type": "text"
      },
      "source": [
        "<a href=\"https://colab.research.google.com/github/mshaik15/NNIK/blob/main/NNIK.ipynb\" target=\"_parent\"><img src=\"https://colab.research.google.com/assets/colab-badge.svg\" alt=\"Open In Colab\"/></a>"
      ]
    },
    {
      "cell_type": "code",
      "source": [
        "from google.colab import drive\n",
        "import sys\n",
        "from pathlib import Path\n",
        "\n",
        "drive.mount('/content/drive')\n",
        "project_root = Path('/content/drive/MyDrive/NNIK/NNIK')\n",
        "\n",
        "print(f'Project root: {project_root}')\n",
        "print(f'Project exists: {project_root.exists()}')\n",
        "\n",
        "paths_to_remove = [p for p in sys.path if 'NNIK' in p or 'Scripts' in p]\n",
        "for path in paths_to_remove:\n",
        "    sys.path.remove(path)\n",
        "\n",
        "project_paths = [\n",
        "    str(project_root),\n",
        "    str(project_root / 'Scripts'),\n",
        "    str(project_root / 'Scripts' / 'Models'),\n",
        "    str(project_root / 'Scripts' / 'Models' / 'Machine_Learning'),\n",
        "    str(project_root / 'Scripts' / 'Models' / 'Traditional'),\n",
        "]\n",
        "\n",
        "for path in project_paths:\n",
        "    if path not in sys.path:\n",
        "        sys.path.insert(0, path)\n",
        "\n",
        "print('Python paths configured successfully')"
      ],
      "metadata": {
        "colab": {
          "base_uri": "https://localhost:8080/"
        },
        "id": "yRQ89oiAgxJD",
        "outputId": "ed11f442-276d-453a-e37f-108ad7866200"
      },
      "execution_count": 4,
      "outputs": [
        {
          "output_type": "stream",
          "name": "stdout",
          "text": [
            "Mounted at /content/drive\n",
            "Project root: /content/drive/MyDrive/NNIK/NNIK\n",
            "Project exists: True\n",
            "Python paths configured successfully\n"
          ]
        }
      ]
    },
    {
      "cell_type": "code",
      "source": [
        "!pip install -q torch torchvision torchaudio scikit-learn pandas matplotlib numpy tqdm pyyaml scipy\n"
      ],
      "metadata": {
        "id": "q_Nb2kKwikgk"
      },
      "execution_count": 2,
      "outputs": []
    },
    {
      "cell_type": "code",
      "source": [
        "import importlib.util\n",
        "import traceback\n",
        "import numpy as np\n",
        "import pandas as pd\n",
        "import matplotlib.pyplot as plt\n",
        "import json\n",
        "import yaml\n",
        "from datetime import datetime\n",
        "\n",
        "def import_from_path(module_name, file_path):\n",
        "    try:\n",
        "        if not file_path.exists():\n",
        "            print(f\"File not found: {file_path}\")\n",
        "            return None\n",
        "\n",
        "        spec = importlib.util.spec_from_file_location(module_name, file_path)\n",
        "        if spec is None:\n",
        "            print(f\"Could not create spec for {module_name} at {file_path}\") # Added file_path to the error message\n",
        "            return None\n",
        "\n",
        "        if spec.loader is None: # Added check for spec.loader\n",
        "            print(f\"Spec loader is None for {module_name} at {file_path}\")\n",
        "            return None\n",
        "\n",
        "        module = importlib.util.module_from_spec(spec)\n",
        "        sys.modules[module_name] = module\n",
        "        spec.loader.exec_module(module)\n",
        "        return module\n",
        "\n",
        "    except Exception as e:\n",
        "        print(f\"Error importing {module_name}: {str(e)}\")\n",
        "        return None\n",
        "print(\"Importing project modules\")\n",
        "\n",
        "utils_module = import_from_path(\"utils\", project_root / \"Scripts\" / \"utils.py\")\n",
        "if utils_module:\n",
        "    print(\"utils.py imported\")\n",
        "    set_random_seed = utils_module.set_random_seed\n",
        "    load_config = utils_module.load_config\n",
        "\n",
        "data_gen_module = import_from_path(\"data_gen\", project_root / \"Scripts\" / \"data_gen.py\")\n",
        "if data_gen_module:\n",
        "    print(\"data_gen.py imported\")\n",
        "    generate_all_datasets = data_gen_module.generate_all_datasets\n",
        "\n",
        "# Import testing\n",
        "testing_module = import_from_path(\"testing\", project_root / \"Scripts\" / \"testing.py\")\n",
        "if testing_module:\n",
        "    print(\"testing.py imported\")\n",
        "    quick_test = testing_module.quick_test"
      ],
      "metadata": {
        "colab": {
          "base_uri": "https://localhost:8080/"
        },
        "id": "Gz2DHg5ti5ls",
        "outputId": "6e0078cd-eed2-42a6-86db-531c515d4788"
      },
      "execution_count": 5,
      "outputs": [
        {
          "output_type": "stream",
          "name": "stdout",
          "text": [
            "Importing project modules...\n",
            "✓ utils.py imported\n",
            "✓ data_gen.py imported\n",
            "✓ testing.py imported\n"
          ]
        }
      ]
    }
  ]
}